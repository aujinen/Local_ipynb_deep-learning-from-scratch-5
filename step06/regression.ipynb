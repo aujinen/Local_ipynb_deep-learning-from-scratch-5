{
 "cells": [
  {
   "cell_type": "markdown",
   "metadata": {},
   "source": [
    "##### 新潟大学大学院医歯学総合研究科　顎顔面放射線学分野　学生演習用\n",
    "Modified by H.Nishiyama<br>\n",
    "Fork from :https://github.com/oreilly-japan/deep-learning-from-scratch-5<br>\n",
    "<br>\n",
    "テキストの版（オリジナル）では、加算する乱数を0から1としているが、乱数を加算しない元の関数との比較を追加<br>\n",
    "さらに、加算する乱数を-0.5から+0.5までの範囲に変化させた場合を追加<br>\n",
    "\n"
   ]
  },
  {
   "cell_type": "code",
   "execution_count": 1,
   "metadata": {},
   "outputs": [],
   "source": [
    "import torch"
   ]
  },
  {
   "cell_type": "markdown",
   "metadata": {},
   "source": [
    "#### 比較検討のためにテキストの版に追加"
   ]
  },
  {
   "cell_type": "code",
   "execution_count": 2,
   "metadata": {},
   "outputs": [],
   "source": [
    "aa = 2\n",
    "bb = 5"
   ]
  },
  {
   "cell_type": "markdown",
   "metadata": {},
   "source": [
    "### 1．オリジナルの版\n",
    "テキストの版：ノイズとして0から1までの乱数を加算"
   ]
  },
  {
   "cell_type": "code",
   "execution_count": 3,
   "metadata": {},
   "outputs": [],
   "source": [
    "torch.manual_seed(0)\n",
    "x = torch.rand(100, 1)\n",
    "#=# y = 5 + 2 * x + torch.rand(100, 1)\n",
    "y = bb + aa * x + torch.rand(100, 1)\n",
    "\n",
    "W = torch.zeros((1, 1), requires_grad=True)\n",
    "b = torch.zeros(1, requires_grad=True)"
   ]
  },
  {
   "cell_type": "code",
   "execution_count": 4,
   "metadata": {},
   "outputs": [],
   "source": [
    "def predict(x):\n",
    "    y = x @ W + b\n",
    "    return y"
   ]
  },
  {
   "cell_type": "code",
   "execution_count": 5,
   "metadata": {},
   "outputs": [],
   "source": [
    "def mean_squared_error(x0, x1):\n",
    "    diff = x0 - x1\n",
    "    N = len(diff)\n",
    "    return torch.sum(diff ** 2) / N"
   ]
  },
  {
   "cell_type": "code",
   "execution_count": 6,
   "metadata": {},
   "outputs": [],
   "source": [
    "lr = 0.1\n",
    "iters = 100"
   ]
  },
  {
   "cell_type": "code",
   "execution_count": 7,
   "metadata": {},
   "outputs": [
    {
     "name": "stdout",
     "output_type": "stream",
     "text": [
      "41.89796447753906\n",
      "0.22483211755752563\n",
      "0.0925208106637001\n",
      "0.0888015553355217\n",
      "0.08627457916736603\n",
      "0.08435674756765366\n",
      "0.0829005315899849\n",
      "0.0817948430776596\n",
      "0.08095530420541763\n",
      "0.08031783998012543\n"
     ]
    }
   ],
   "source": [
    "for i in range(iters):\n",
    "    y_hat = predict(x)\n",
    "    loss = mean_squared_error(y, y_hat)\n",
    "\n",
    "    loss.backward()\n",
    "\n",
    "    W.data -= lr * W.grad.data\n",
    "    b.data -= lr * b.grad.data\n",
    "\n",
    "    W.grad.zero_()\n",
    "    b.grad.zero_()\n",
    "\n",
    "    if i % 10 == 0: # print every 10 iterations\n",
    "        print(loss.item())"
   ]
  },
  {
   "cell_type": "code",
   "execution_count": 8,
   "metadata": {},
   "outputs": [
    {
     "name": "stdout",
     "output_type": "stream",
     "text": [
      "0.07987643033266068\n",
      "====\n",
      "W = 2.2863590717315674\n",
      "b = 5.3144850730896\n"
     ]
    }
   ],
   "source": [
    "print(loss.item())\n",
    "print('====')\n",
    "print('W =', W.item())\n",
    "print('b =', b.item())"
   ]
  },
  {
   "cell_type": "markdown",
   "metadata": {},
   "source": [
    "#### テキストの版に追加"
   ]
  },
  {
   "cell_type": "code",
   "execution_count": 9,
   "metadata": {},
   "outputs": [
    {
     "name": "stdout",
     "output_type": "stream",
     "text": [
      "元の関数の傾き： aa=2\n",
      "差分：W-aa= 0.2863590717315674\n",
      "元の関数の切片： bb=5\n",
      "差分：b-bb= 0.3144850730895996\n"
     ]
    }
   ],
   "source": [
    "print(\"元の関数の傾き：\",f'{aa=}')\n",
    "print(\"差分：W-aa=\",f'{W.item()-aa}')\n",
    "print(\"元の関数の切片：\",f'{bb=}')\n",
    "print(\"差分：b-bb=\",f'{b.item()-bb}')"
   ]
  },
  {
   "cell_type": "code",
   "execution_count": 10,
   "metadata": {},
   "outputs": [
    {
     "data": {
      "image/png": "[encoded data removed]",
      "text/plain": [
       "<Figure size 640x480 with 1 Axes>"
      ]
     },
     "metadata": {},
     "output_type": "display_data"
    }
   ],
   "source": [
    "# plot\n",
    "import matplotlib.pyplot as plt\n",
    "plt.scatter(x.detach().numpy(), y.detach().numpy(), s=10)\n",
    "xx = torch.tensor([[0.0], [1.0]])\n",
    "yy = W.detach().numpy() * xx.detach().numpy() + b.detach().numpy()\n",
    "yy2 = aa * xx + bb\n",
    "plt.plot(xx, yy, color='red')\n",
    "plt.plot(xx, yy2,color='green')\n",
    "plt.xlabel('x')\n",
    "plt.ylabel('y')\n",
    "plt.show()"
   ]
  },
  {
   "cell_type": "markdown",
   "metadata": {},
   "source": [
    "### 2．改定版\n",
    "ノイズとして-0.5から+0.5までの乱数を加算"
   ]
  },
  {
   "cell_type": "code",
   "execution_count": 11,
   "metadata": {},
   "outputs": [],
   "source": [
    "torch.manual_seed(0)\n",
    "x = torch.rand(100, 1)\n",
    "#=# y = 5 + 2 * x + torch.rand(100, 1)\n",
    "y = bb + aa * x + torch.rand(100, 1) - 0.5\n",
    "\n",
    "W = torch.zeros((1, 1), requires_grad=True)\n",
    "b = torch.zeros(1, requires_grad=True)"
   ]
  },
  {
   "cell_type": "code",
   "execution_count": 12,
   "metadata": {},
   "outputs": [
    {
     "name": "stdout",
     "output_type": "stream",
     "text": [
      "35.712032318115234\n",
      "0.194411501288414\n",
      "0.08375012129545212\n",
      "0.08218597620725632\n",
      "0.08125147968530655\n",
      "0.08054273575544357\n",
      "0.08000458776950836\n",
      "0.07959596812725067\n",
      "0.07928571105003357\n",
      "0.07905013114213943\n"
     ]
    }
   ],
   "source": [
    "for i in range(iters):\n",
    "    y_hat = predict(x)\n",
    "    loss = mean_squared_error(y, y_hat)\n",
    "\n",
    "    loss.backward()\n",
    "\n",
    "    W.data -= lr * W.grad.data\n",
    "    b.data -= lr * b.grad.data\n",
    "\n",
    "    W.grad.zero_()\n",
    "    b.grad.zero_()\n",
    "\n",
    "    if i % 10 == 0: # print every 10 iterations\n",
    "        print(loss.item())"
   ]
  },
  {
   "cell_type": "code",
   "execution_count": 13,
   "metadata": {},
   "outputs": [
    {
     "name": "stdout",
     "output_type": "stream",
     "text": [
      "0.07888700067996979\n",
      "====\n",
      "W = 2.2344651222229004\n",
      "b = 4.841691017150879\n"
     ]
    }
   ],
   "source": [
    "print(loss.item())\n",
    "print('====')\n",
    "print('W =', W.item())\n",
    "print('b =', b.item())"
   ]
  },
  {
   "cell_type": "code",
   "execution_count": 14,
   "metadata": {},
   "outputs": [
    {
     "name": "stdout",
     "output_type": "stream",
     "text": [
      "元の関数の傾き： aa=2\n",
      "差分：W-aa= 0.2344651222229004\n",
      "元の関数の切片： bb=5\n",
      "差分：b-bb= -0.1583089828491211\n"
     ]
    }
   ],
   "source": [
    "print(\"元の関数の傾き：\",f'{aa=}')\n",
    "print(\"差分：W-aa=\",f'{W.item()-aa}')\n",
    "print(\"元の関数の切片：\",f'{bb=}')\n",
    "print(\"差分：b-bb=\",f'{b.item()-bb}')"
   ]
  },
  {
   "cell_type": "code",
   "execution_count": 15,
   "metadata": {},
   "outputs": [
    {
     "data": {
      "image/png": "[encoded data removed]",
      "text/plain": [
       "<Figure size 640x480 with 1 Axes>"
      ]
     },
     "metadata": {},
     "output_type": "display_data"
    }
   ],
   "source": [
    "# plot\n",
    "import matplotlib.pyplot as plt\n",
    "plt.scatter(x.detach().numpy(), y.detach().numpy(), s=10)\n",
    "xx = torch.tensor([[0.0], [1.0]])\n",
    "yy = W.detach().numpy() * xx.detach().numpy() + b.detach().numpy()\n",
    "yy2 = aa * xx + bb\n",
    "plt.plot(xx, yy, color='red')\n",
    "plt.plot(xx, yy2,color='green')\n",
    "plt.xlabel('x')\n",
    "plt.ylabel('y')\n",
    "plt.show()"
   ]
  },
  {
   "cell_type": "code",
   "execution_count": null,
   "metadata": {},
   "outputs": [],
   "source": []
  }
 ],
 "metadata": {
  "kernelspec": {
   "display_name": ".venv",
   "language": "python",
   "name": "python3"
  },
  "language_info": {
   "codemirror_mode": {
    "name": "ipython",
    "version": 3
   },
   "file_extension": ".py",
   "mimetype": "text/x-python",
   "name": "python",
   "nbconvert_exporter": "python",
   "pygments_lexer": "ipython3",
   "version": "3.11.9"
  }
 },
 "nbformat": 4,
 "nbformat_minor": 2
}
