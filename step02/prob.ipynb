{
 "cells": [
  {
   "cell_type": "markdown",
   "metadata": {},
   "source": [
    "##### 新潟大学大学院医歯学総合研究科　顎顔面放射線学分野　学生演習用\n",
    "Fork from :https://github.com/oreilly-japan/deep-learning-from-scratch-5\n",
    "\n",
    "```os.path.dirname(__file__)```<br>\n",
    "はローカル実行環境ではエラーとなるので、<br>\n",
    "```os.getcwd()```<br>\n",
    "に修正した（オリジナルコードは```#=#```でコメントアウトしている）<br>\n",
    "なお、ファイルの場所が同じフォルダ内なら、```os.path.join```も不要で、直接```np.loadtxt(path)```の```path```にファイル名（```'height.txt'```）を入れるだけで良い。<br>\n",
    "【注意】オリジナルコードとして同梱されている「notebooks」フォルダ内のコードをローカルで直接実行すると同一フォルダ内に該当するデータファイルが存在しないのでエラーが発生する。<br>"
   ]
  },
  {
   "cell_type": "code",
   "execution_count": null,
   "metadata": {},
   "outputs": [],
   "source": [
    "import os\n",
    "import numpy as np\n",
    "from scipy.stats import norm"
   ]
  },
  {
   "cell_type": "code",
   "execution_count": null,
   "metadata": {},
   "outputs": [
    {
     "name": "stdout",
     "output_type": "stream",
     "text": [
      "p(x <= 160): 0.004271406830855\n",
      "p(x > 180): 0.06541774339950823\n"
     ]
    }
   ],
   "source": [
    "#=# path = os.path.join(os.path.dirname(__file__), 'height.txt')\n",
    "path = os.path.join(os.getcwd(), 'height.txt')\n",
    "xs = np.loadtxt(path)\n",
    "mu = np.mean(xs)\n",
    "sigma = np.std(xs)\n",
    "\n",
    "p1 = norm.cdf(160, mu, sigma)\n",
    "print('p(x <= 160):', p1)\n",
    "\n",
    "p2 = norm.cdf(180, mu, sigma)\n",
    "print('p(x > 180):', 1-p2)"
   ]
  }
 ],
 "metadata": {
  "kernelspec": {
   "display_name": ".venv",
   "language": "python",
   "name": "python3"
  },
  "language_info": {
   "codemirror_mode": {
    "name": "ipython",
    "version": 3
   },
   "file_extension": ".py",
   "mimetype": "text/x-python",
   "name": "python",
   "nbconvert_exporter": "python",
   "pygments_lexer": "ipython3",
   "version": "3.11.9"
  }
 },
 "nbformat": 4,
 "nbformat_minor": 2
}
